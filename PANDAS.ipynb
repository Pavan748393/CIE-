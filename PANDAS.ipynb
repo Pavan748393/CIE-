{
  "nbformat": 4,
  "nbformat_minor": 0,
  "metadata": {
    "colab": {
      "provenance": [],
      "authorship_tag": "ABX9TyOGq9knHUMip8fVj0rZ77en",
      "include_colab_link": true
    },
    "kernelspec": {
      "name": "python3",
      "display_name": "Python 3"
    },
    "language_info": {
      "name": "python"
    }
  },
  "cells": [
    {
      "cell_type": "markdown",
      "metadata": {
        "id": "view-in-github",
        "colab_type": "text"
      },
      "source": [
        "<a href=\"https://colab.research.google.com/github/Pavan748393/CIE-/blob/main/PANDAS.ipynb\" target=\"_parent\"><img src=\"https://colab.research.google.com/assets/colab-badge.svg\" alt=\"Open In Colab\"/></a>"
      ]
    },
    {
      "cell_type": "markdown",
      "source": [
        "PROGRAMS\n",
        "Write a Pandas program to multiple and divide two Pandas Series.\n",
        "Sample Series: [2, 4, 8, 10], [1, 3, 7, 9]"
      ],
      "metadata": {
        "id": "8HMRdsmpIkBE"
      }
    },
    {
      "cell_type": "code",
      "execution_count": null,
      "metadata": {
        "colab": {
          "base_uri": "https://localhost:8080/"
        },
        "id": "7M9IZYfMH9cA",
        "outputId": "7aec91e7-d85e-4156-ebec-c6abdafaaf6e"
      },
      "outputs": [
        {
          "output_type": "stream",
          "name": "stdout",
          "text": [
            "Multiply two Series:\n",
            "0     2\n",
            "1    12\n",
            "2    56\n",
            "3    90\n",
            "dtype: int64\n",
            "Divide Series1 by Series2:\n",
            "0    2.000000\n",
            "1    1.333333\n",
            "2    1.142857\n",
            "3    1.111111\n",
            "dtype: float64\n"
          ]
        }
      ],
      "source": [
        "import pandas as pd\n",
        "ds1 = pd.Series([2, 4, 8, 10])\n",
        "ds2 = pd.Series([1, 3, 7, 9])\n",
        "print(\"Multiply two Series:\")\n",
        "ds = ds1 * ds2\n",
        "print(ds)\n",
        "print(\"Divide Series1 by Series2:\")\n",
        "ds = ds1 / ds2\n",
        "print(ds)"
      ]
    },
    {
      "cell_type": "markdown",
      "source": [
        "Write a Pandas program to convert a dictionary to a Pandas series.\n",
        "Sample dictionary: d1 = {'a': 100, 'b': 200, 'c':300}\n"
      ],
      "metadata": {
        "id": "_LKiw6lMIZN7"
      }
    },
    {
      "cell_type": "code",
      "source": [
        "import pandas as pd\n",
        "d1 = {'a': 100, 'b': 200, 'c':300}\n",
        "print(\"Original dictionary:\")\n",
        "print(d1)\n",
        "new_series = pd.Series(d1)\n",
        "print(\"Converted series:\")\n",
        "print(new_series)"
      ],
      "metadata": {
        "colab": {
          "base_uri": "https://localhost:8080/"
        },
        "id": "GYAfIFeWIUA0",
        "outputId": "32e4dac2-6bc7-48ea-d4ca-0a71a5d3e995"
      },
      "execution_count": null,
      "outputs": [
        {
          "output_type": "stream",
          "name": "stdout",
          "text": [
            "Original dictionary:\n",
            "{'a': 100, 'b': 200, 'c': 300}\n",
            "Converted series:\n",
            "a    100\n",
            "b    200\n",
            "c    300\n",
            "dtype: int64\n"
          ]
        }
      ]
    },
    {
      "cell_type": "markdown",
      "source": [
        "Write a Pandas program to sort a given Series.\n",
        "400, 300.12,100, 200"
      ],
      "metadata": {
        "id": "qxiXK2xbIp4b"
      }
    },
    {
      "cell_type": "code",
      "source": [
        "import pandas as pd\n",
        "p={'M': 900,'K': 800,'I': 700}\n",
        "print(\"original dictionary:\")\n",
        "print(p)\n",
        "new_series = pd.Series(p)\n",
        "print(\"Converted series:\")\n",
        "print(new_series)"
      ],
      "metadata": {
        "colab": {
          "base_uri": "https://localhost:8080/"
        },
        "id": "Nc52Aur6GbQL",
        "outputId": "d493d9a3-633d-4a1a-e987-fc1f7f4bd5e1"
      },
      "execution_count": null,
      "outputs": [
        {
          "output_type": "stream",
          "name": "stdout",
          "text": [
            "original dictionary:\n",
            "{'M': 900, 'K': 800, 'I': 700}\n",
            "Converted series:\n",
            "M    900\n",
            "K    800\n",
            "I    700\n",
            "dtype: int64\n"
          ]
        }
      ]
    },
    {
      "cell_type": "code",
      "source": [
        "import pandas as pd\n",
        "s1=pd.Series([1,2,3,4,5])\n",
        "s2=pd.Series([2,4,6,8,10])\n",
        "print (\"multpul of two series:\")\n",
        "z= s1 + s2\n",
        "z= s2 / s2\n",
        "print (\"Addition of two series:\")\n",
        "print(z)"
      ],
      "metadata": {
        "colab": {
          "base_uri": "https://localhost:8080/"
        },
        "id": "gJXQdQupH4WK",
        "outputId": "ddfe1dc0-0c80-428f-d98e-b262a20cd062"
      },
      "execution_count": null,
      "outputs": [
        {
          "output_type": "stream",
          "name": "stdout",
          "text": [
            "multpul of two series:\n",
            "Addition of two series:\n",
            "0    1.0\n",
            "1    1.0\n",
            "2    1.0\n",
            "3    1.0\n",
            "4    1.0\n",
            "dtype: float64\n"
          ]
        }
      ]
    },
    {
      "cell_type": "code",
      "source": [
        "import pandas as pd\n",
        "s = pd.Series([400, 300.12,100, 200])\n",
        "print(\"Original Data Series:\")\n",
        "print(s)\n",
        "new_s = pd.Series(s).sort_values()\n",
        "print(new_s)"
      ],
      "metadata": {
        "colab": {
          "base_uri": "https://localhost:8080/"
        },
        "id": "U69FNeIyIXDj",
        "outputId": "9ed64450-ef1e-4901-d665-199c17757be7"
      },
      "execution_count": null,
      "outputs": [
        {
          "output_type": "stream",
          "name": "stdout",
          "text": [
            "Original Data Series:\n",
            "0    400.00\n",
            "1    300.12\n",
            "2    100.00\n",
            "3    200.00\n",
            "dtype: float64\n",
            "2    100.00\n",
            "3    200.00\n",
            "1    300.12\n",
            "0    400.00\n",
            "dtype: float64\n"
          ]
        }
      ]
    },
    {
      "cell_type": "markdown",
      "source": [
        "Write a Pandas program to change the order of index of a given series."
      ],
      "metadata": {
        "id": "4lbwLriiIxn7"
      }
    },
    {
      "cell_type": "code",
      "source": [
        "import pandas as pd\n",
        "s = pd.Series(data = [1,2,3], index = ['A', 'B', 'C'])\n",
        "print(\"Original Data Series:\")\n",
        "print(s)\n",
        "s = s.reindex(index = ['B','A','C'])\n",
        "print(\"Data Series after changing the order of index:\")\n",
        "print(s)"
      ],
      "metadata": {
        "colab": {
          "base_uri": "https://localhost:8080/"
        },
        "id": "Hj18Fcf8I0zL",
        "outputId": "6d1ee453-e570-4723-9613-cd78673b671b"
      },
      "execution_count": null,
      "outputs": [
        {
          "output_type": "stream",
          "name": "stdout",
          "text": [
            "Original Data Series:\n",
            "A    1\n",
            "B    2\n",
            "C    3\n",
            "dtype: int64\n",
            "Data Series after changing the order of index:\n",
            "B    2\n",
            "A    1\n",
            "C    3\n",
            "dtype: int64\n"
          ]
        }
      ]
    },
    {
      "cell_type": "markdown",
      "source": [
        "Write a Pandas program to get the items which are not common of two given series."
      ],
      "metadata": {
        "id": "FxmPwzyvI97r"
      }
    },
    {
      "cell_type": "code",
      "source": [
        "import pandas as pd\n",
        "import numpy as np\n",
        "sr1 = pd.Series([1, 2, 3])\n",
        "sr2 = pd.Series([2, 3, 6])\n",
        "print(\"Original Series:\")\n",
        "print(\"sr1:\")\n",
        "print(sr1)\n",
        "print(\"sr2:\")\n",
        "print(sr2)\n",
        "print(\"\\nItems of a given series not present in another given series:\")\n",
        "sr11 = pd.Series(np.union1d(sr1, sr2))\n",
        "sr22 = pd.Series(np.intersect1d(sr1, sr2))\n",
        "result = sr11[~sr11.isin(sr22)]\n",
        "print(result)"
      ],
      "metadata": {
        "colab": {
          "base_uri": "https://localhost:8080/"
        },
        "id": "r_ZiB-NaJAFD",
        "outputId": "ac1954da-3e2e-4130-92e4-535af9231c09"
      },
      "execution_count": null,
      "outputs": [
        {
          "output_type": "stream",
          "name": "stdout",
          "text": [
            "Original Series:\n",
            "sr1:\n",
            "0    1\n",
            "1    2\n",
            "2    3\n",
            "dtype: int64\n",
            "sr2:\n",
            "0    2\n",
            "1    3\n",
            "2    6\n",
            "dtype: int64\n",
            "\n",
            "Items of a given series not present in another given series:\n",
            "0    1\n",
            "3    6\n",
            "dtype: int64\n"
          ]
        }
      ]
    },
    {
      "cell_type": "markdown",
      "source": [
        "Write a Pandas program to create and display a DataFrame from a specified dictionary with index labels."
      ],
      "metadata": {
        "id": "rGsH1Zc-JEzb"
      }
    },
    {
      "cell_type": "code",
      "source": [
        "import pandas as pd\n",
        "import numpy as np\n",
        "exam_data = {'name': ['Manish', 'Dhiraj'],\n",
        "'score': [12.5, 9]}\n",
        "labels = ['NAME', 'SCORE']\n",
        "df = pd.DataFrame(exam_data , index=labels)\n",
        "print(df)"
      ],
      "metadata": {
        "colab": {
          "base_uri": "https://localhost:8080/"
        },
        "id": "A65OtUxiJD7z",
        "outputId": "c404ec46-846c-4bf7-ed9e-32e707deb604"
      },
      "execution_count": null,
      "outputs": [
        {
          "output_type": "stream",
          "name": "stdout",
          "text": [
            "         name  score\n",
            "NAME   Manish   12.5\n",
            "SCORE  Dhiraj    9.0\n"
          ]
        }
      ]
    },
    {
      "cell_type": "markdown",
      "source": [
        "Write a Pandas program to get the first 3 rows of a given DataFrame."
      ],
      "metadata": {
        "id": "ZrfN22yKJKYD"
      }
    },
    {
      "cell_type": "code",
      "source": [
        "import pandas as pd\n",
        "import numpy as np\n",
        "exam_data = {'name': ['Manish', 'Dhiraj','Man', 'Dhir'],\n",
        "'score': [12.5, 91,2.5, 9]}\n",
        "df = pd.DataFrame(exam_data )\n",
        "print(\"First three rows of the data frame:\")\n",
        "print(df.iloc[:3]) #print(df.head(3))"
      ],
      "metadata": {
        "colab": {
          "base_uri": "https://localhost:8080/"
        },
        "id": "fW13A-vqJMeT",
        "outputId": "976e3db3-f360-4d16-d705-a13644dfccff"
      },
      "execution_count": null,
      "outputs": [
        {
          "output_type": "stream",
          "name": "stdout",
          "text": [
            "First three rows of the data frame:\n",
            "     name  score\n",
            "0  Manish   12.5\n",
            "1  Dhiraj   91.0\n",
            "2     Man    2.5\n"
          ]
        }
      ]
    },
    {
      "cell_type": "markdown",
      "source": [
        "Write a Pandas program to count the number of rows and columns of a DataFrame."
      ],
      "metadata": {
        "id": "JKQtaKu3JQeM"
      }
    },
    {
      "cell_type": "code",
      "source": [
        "import pandas as pd\n",
        "import numpy as np\n",
        "exam_data = {'name': ['Manish', 'Dhiraj','Man', 'Dhir'],\n",
        "'score': [12.5, 91,2.5, 9]}\n",
        "df = pd.DataFrame(exam_data )\n",
        "total_rows=len(df.axes[0])\n",
        "total_cols=len(df.axes[1])\n",
        "print(\"Number of Rows: \"+str(total_rows))\n",
        "print(\"Number of Columns: \"+str(total_cols))"
      ],
      "metadata": {
        "colab": {
          "base_uri": "https://localhost:8080/"
        },
        "id": "Tmj78jofJSq7",
        "outputId": "f23c7a8d-1218-4a49-fc7c-0519549991cb"
      },
      "execution_count": null,
      "outputs": [
        {
          "output_type": "stream",
          "name": "stdout",
          "text": [
            "Number of Rows: 4\n",
            "Number of Columns: 2\n"
          ]
        }
      ]
    },
    {
      "cell_type": "markdown",
      "source": [
        "Write a Pandas program to select the rows the score is between 15 and 20 (inclusive)"
      ],
      "metadata": {
        "id": "rI4Pf4JUJV3L"
      }
    },
    {
      "cell_type": "code",
      "source": [
        "import pandas as pd\n",
        "import numpy as np\n",
        "exam_data = {'name': ['Manish', 'Dhiraj','Man', 'Dhir'],\n",
        "'score': [12.5, 91,20.5, 19]}\n",
        "df = pd.DataFrame(exam_data )\n",
        "print(\"Rows where score between 15 and 20 (inclusive):\")\n",
        "print(df[df['score'].between(15, 20)])"
      ],
      "metadata": {
        "colab": {
          "base_uri": "https://localhost:8080/"
        },
        "id": "VoUBeLwTJX3M",
        "outputId": "dca75912-4015-4e27-af4b-255481a5020e"
      },
      "execution_count": null,
      "outputs": [
        {
          "output_type": "stream",
          "name": "stdout",
          "text": [
            "Rows where score between 15 and 20 (inclusive):\n",
            "   name  score\n",
            "3  Dhir   19.0\n"
          ]
        }
      ]
    },
    {
      "cell_type": "markdown",
      "source": [
        "Write a Pandas program to sort the DataFrame first by 'name' in descending order, then by 'score' in ascending order."
      ],
      "metadata": {
        "id": "jmBRE6ZUJdV7"
      }
    },
    {
      "cell_type": "code",
      "source": [
        "import pandas as pd\n",
        "import numpy as np\n",
        "exam_data = {'name': ['Manish', 'Dhiraj','Man', 'Dhir'],\n",
        "'score': [12.5, 91,20.5, 19]}\n",
        "df = pd.DataFrame(exam_data )\n",
        "result_sort=df.sort_values(by=['name', 'score'], ascending=[True, True])\n",
        "print(\"Sort the data frame first by ‘name’ in descending order, then by ‘score’ in ascending order:\")\n",
        "print(result_sort)"
      ],
      "metadata": {
        "colab": {
          "base_uri": "https://localhost:8080/"
        },
        "id": "LQfxxAeBJfbr",
        "outputId": "b513c587-1810-4084-9c98-5435ebc91556"
      },
      "execution_count": null,
      "outputs": [
        {
          "output_type": "stream",
          "name": "stdout",
          "text": [
            "Sort the data frame first by ‘name’ in descending order, then by ‘score’ in ascending order:\n",
            "     name  score\n",
            "3    Dhir   19.0\n",
            "1  Dhiraj   91.0\n",
            "2     Man   20.5\n",
            "0  Manish   12.5\n"
          ]
        }
      ]
    },
    {
      "cell_type": "markdown",
      "source": [
        "Write a Pandas program to change the name 'Manish' to 'Anish' in name column of the data frame."
      ],
      "metadata": {
        "id": "7WwQK-Z7JjWz"
      }
    },
    {
      "cell_type": "code",
      "source": [
        "import pandas as pd\n",
        "import numpy as np\n",
        "exam_data = {'name': ['Manish', 'Dhiraj','Man', 'Dhir'],\n",
        "'score': [12.5, 91,20.5, 19]}\n",
        "df = pd.DataFrame(exam_data )\n",
        "df['name'] = df['name'].replace('Manish', 'Anish')\n",
        "print(df)"
      ],
      "metadata": {
        "colab": {
          "base_uri": "https://localhost:8080/"
        },
        "id": "0N4nVNdIJolt",
        "outputId": "e44ee062-0656-44b7-f09f-2ac8149e1889"
      },
      "execution_count": null,
      "outputs": [
        {
          "output_type": "stream",
          "name": "stdout",
          "text": [
            "     name  score\n",
            "0   Anish   12.5\n",
            "1  Dhiraj   91.0\n",
            "2     Man   20.5\n",
            "3    Dhir   19.0\n"
          ]
        }
      ]
    },
    {
      "cell_type": "markdown",
      "source": [
        "Write a Pandas program to insert a new column in existing DataFrame."
      ],
      "metadata": {
        "id": "rjhX2bOQJrt8"
      }
    },
    {
      "cell_type": "code",
      "source": [
        "import pandas as pd\n",
        "import numpy as np\n",
        "exam_data = {'name': ['Manish', 'Dhiraj','Man', 'Dhir'],\n",
        "'score': [12.5, 91,20.5, 19]}\n",
        "df = pd.DataFrame(exam_data )\n",
        "medium = ['english','hindi','hindi','english']\n",
        "df['medium'] = medium\n",
        "print(\"\\nNew DataFrame after inserting the 'medium' column\")\n",
        "print(df)"
      ],
      "metadata": {
        "colab": {
          "base_uri": "https://localhost:8080/"
        },
        "id": "JOyyKTilJxC6",
        "outputId": "830298b0-b0e8-4fd2-9440-96db2d6f1494"
      },
      "execution_count": null,
      "outputs": [
        {
          "output_type": "stream",
          "name": "stdout",
          "text": [
            "\n",
            "New DataFrame after inserting the 'medium' column\n",
            "     name  score   medium\n",
            "0  Manish   12.5  english\n",
            "1  Dhiraj   91.0    hindi\n",
            "2     Man   20.5    hindi\n",
            "3    Dhir   19.0  english\n"
          ]
        }
      ]
    },
    {
      "cell_type": "markdown",
      "source": [
        "Write a Pandas program to rename columns of a given DataFrame.\n",
        "import pandas as pd"
      ],
      "metadata": {
        "id": "cNlmSh0TJyiq"
      }
    },
    {
      "cell_type": "code",
      "source": [
        "import numpy as np\n",
        "exam_data = {'name': ['Manish', 'Dhiraj','Man', 'Dhir'],\n",
        "'score': [12.5, 91,20.5, 19]}\n",
        "df = pd.DataFrame(exam_data )\n",
        "df = df.rename(columns={'name': 'NAME', 'score': 'SCORE'})\n",
        "print(\"New DataFrame after renaming columns:\")\n",
        "print(df)"
      ],
      "metadata": {
        "colab": {
          "base_uri": "https://localhost:8080/"
        },
        "id": "_RckxOl5J0ZK",
        "outputId": "4f36effa-2ae1-4180-b1f2-1b643a22e098"
      },
      "execution_count": null,
      "outputs": [
        {
          "output_type": "stream",
          "name": "stdout",
          "text": [
            "New DataFrame after renaming columns:\n",
            "     NAME  SCORE\n",
            "0  Manish   12.5\n",
            "1  Dhiraj   91.0\n",
            "2     Man   20.5\n",
            "3    Dhir   19.0\n"
          ]
        }
      ]
    },
    {
      "cell_type": "markdown",
      "source": [
        "Write a Pandas program to delete DataFrame row(s) based on given column value/condition."
      ],
      "metadata": {
        "id": "fIXi2mwNJ8SL"
      }
    },
    {
      "cell_type": "code",
      "source": [
        "import pandas as pd\n",
        "import numpy as np\n",
        "exam_data = {'name': ['Manish', 'Dhiraj','Man', 'Dhir'],\n",
        "'score': [12.5, 91,20.5, 19]}\n",
        "df = pd.DataFrame(exam_data )\n",
        "df = df[df.score >= 20]\n",
        "print(\"New DataFrame\")\n",
        "print(df)"
      ],
      "metadata": {
        "colab": {
          "base_uri": "https://localhost:8080/"
        },
        "id": "aNdnKJdCJ96b",
        "outputId": "85bb385f-80b5-471b-b65e-9b3fdb4cc6e3"
      },
      "execution_count": null,
      "outputs": [
        {
          "output_type": "stream",
          "name": "stdout",
          "text": [
            "New DataFrame\n",
            "     name  score\n",
            "1  Dhiraj   91.0\n",
            "2     Man   20.5\n"
          ]
        }
      ]
    },
    {
      "cell_type": "markdown",
      "source": [
        "Write a Pandas program to combining two series into a DataFrame."
      ],
      "metadata": {
        "id": "tn9LM-dwKBx7"
      }
    },
    {
      "cell_type": "code",
      "source": [
        "import pandas as pd\n",
        "import numpy as np\n",
        "s1 = pd.Series(['100', '200', '400'])\n",
        "s2 = pd.Series(['10', '20', '40'])\n",
        "print(\"Data Series:\")\n",
        "print(s1)\n",
        "print(s2)\n",
        "df = pd.concat([s1, s2], axis=1)\n",
        "print(\"New DataFrame combining two series:\")\n",
        "print(df)"
      ],
      "metadata": {
        "colab": {
          "base_uri": "https://localhost:8080/"
        },
        "id": "Jq-rv_coKEis",
        "outputId": "1cc302ca-003b-4ac8-f6a3-22783cd3d5a3"
      },
      "execution_count": null,
      "outputs": [
        {
          "output_type": "stream",
          "name": "stdout",
          "text": [
            "Data Series:\n",
            "0    100\n",
            "1    200\n",
            "2    400\n",
            "dtype: object\n",
            "0    10\n",
            "1    20\n",
            "2    40\n",
            "dtype: object\n",
            "New DataFrame combining two series:\n",
            "     0   1\n",
            "0  100  10\n",
            "1  200  20\n",
            "2  400  40\n"
          ]
        }
      ]
    },
    {
      "cell_type": "markdown",
      "source": [
        "Write a Pandas program to get the specified row value of a given DataFrame."
      ],
      "metadata": {
        "id": "-oSRqGHtKI87"
      }
    },
    {
      "cell_type": "code",
      "source": [
        "import pandas as pd\n",
        "import numpy as np\n",
        "s1 = pd.Series(['100', '200', '400'])\n",
        "s2 = pd.Series(['10', '20', '40'])\n",
        "df = pd.concat([s1, s2], axis=1)\n",
        "print(\"Value of Row4\")\n",
        "print(df.iloc[2])"
      ],
      "metadata": {
        "colab": {
          "base_uri": "https://localhost:8080/"
        },
        "id": "2udTwYoKKKHC",
        "outputId": "644b2b55-76d7-469a-fd07-18463cedc714"
      },
      "execution_count": null,
      "outputs": [
        {
          "output_type": "stream",
          "name": "stdout",
          "text": [
            "Value of Row4\n",
            "0    400\n",
            "1     40\n",
            "Name: 2, dtype: object\n"
          ]
        }
      ]
    },
    {
      "cell_type": "markdown",
      "source": [
        "Write a Pandas program to insert a given column at a specific column index in a DataFrame."
      ],
      "metadata": {
        "id": "t-LwEIA_KNWa"
      }
    },
    {
      "cell_type": "code",
      "source": [
        "import pandas as pd\n",
        "import numpy as np\n",
        "s1 = pd.Series(['100', '200', '400'])\n",
        "s2 = pd.Series(['10', '20', '40'])\n",
        "df = pd.concat([s1, s2], axis=1)\n",
        "new_col = [1, 2, 3]\n",
        "# insert the said column at the beginning in the DataFrame\n",
        "idx = 0\n",
        "df.insert(loc=idx, column='1', value=new_col)\n",
        "print(\"\\nNew DataFrame\")\n",
        "print(df)"
      ],
      "metadata": {
        "colab": {
          "base_uri": "https://localhost:8080/"
        },
        "id": "jjrWcb3_KOLS",
        "outputId": "5d5affc2-3d2d-4c7d-e43c-ff3c760540da"
      },
      "execution_count": null,
      "outputs": [
        {
          "output_type": "stream",
          "name": "stdout",
          "text": [
            "\n",
            "New DataFrame\n",
            "   1    0   1\n",
            "0  1  100  10\n",
            "1  2  200  20\n",
            "2  3  400  40\n"
          ]
        }
      ]
    },
    {
      "cell_type": "code",
      "source": [
        "import pandas as pd\n",
        "s1=pd.Series([1,2,3,4,5])\n",
        "s2=pd.Series([2,4,6,8,10])\n",
        "print (\"multpul of two series:\")\n",
        "z= s1 + s2\n",
        "z= s2 / s2\n",
        "print (\"Addition of two series:\")\n",
        "print(z)"
      ],
      "metadata": {
        "colab": {
          "base_uri": "https://localhost:8080/"
        },
        "id": "8SR7RbmVCu7L",
        "outputId": "4645841c-a810-4762-8a58-b10cccf77651"
      },
      "execution_count": null,
      "outputs": [
        {
          "output_type": "stream",
          "name": "stdout",
          "text": [
            "multpul of two series:\n",
            "Addition of two series:\n",
            "0    1.0\n",
            "1    1.0\n",
            "2    1.0\n",
            "3    1.0\n",
            "4    1.0\n",
            "dtype: float64\n"
          ]
        }
      ]
    },
    {
      "cell_type": "code",
      "source": [
        "import pandas as pd\n",
        "s1=pd.Series([1,2,3,4,5])\n",
        "s2=pd.Series([2,4,6,8,10])\n",
        "print(\"multpul of two series:\")\n",
        "z=s1*s2\n",
        "z=s1%s2\n",
        "print(\"Addition of two series:\")\n",
        "print(z)"
      ],
      "metadata": {
        "colab": {
          "base_uri": "https://localhost:8080/"
        },
        "id": "5L1kTf73D-oK",
        "outputId": "7bd0493f-aec4-48c1-a445-30e5114235ea"
      },
      "execution_count": null,
      "outputs": [
        {
          "output_type": "stream",
          "name": "stdout",
          "text": [
            "multpul of two series:\n",
            "Addition of two series:\n",
            "0    1\n",
            "1    2\n",
            "2    3\n",
            "3    4\n",
            "4    5\n",
            "dtype: int64\n"
          ]
        }
      ]
    },
    {
      "cell_type": "code",
      "source": [
        "import pandas as pd\n",
        "p={'a':100,'b':200,'c':300}\n",
        "print(\"original dictionary:\")\n",
        "print(p)\n",
        "new_series = pd.Series(p)\n",
        "print(\"Converted series:\")\n",
        "print(new_series)"
      ],
      "metadata": {
        "colab": {
          "base_uri": "https://localhost:8080/"
        },
        "id": "dp-Hb_O6F0BS",
        "outputId": "0b89b9a6-5af9-4185-8c14-01a4da6653f7"
      },
      "execution_count": null,
      "outputs": [
        {
          "output_type": "stream",
          "name": "stdout",
          "text": [
            "original dictionary:\n",
            "{'a': 100, 'b': 200, 'c': 300}\n",
            "Converted series:\n",
            "a    100\n",
            "b    200\n",
            "c    300\n",
            "dtype: int64\n"
          ]
        }
      ]
    }
  ]
}