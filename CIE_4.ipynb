{
  "nbformat": 4,
  "nbformat_minor": 0,
  "metadata": {
    "colab": {
      "provenance": [],
      "authorship_tag": "ABX9TyNWCOLs+UMYPVqO+Up9FS44",
      "include_colab_link": true
    },
    "kernelspec": {
      "name": "python3",
      "display_name": "Python 3"
    },
    "language_info": {
      "name": "python"
    }
  },
  "cells": [
    {
      "cell_type": "markdown",
      "metadata": {
        "id": "view-in-github",
        "colab_type": "text"
      },
      "source": [
        "<a href=\"https://colab.research.google.com/github/Pavan748393/CIE-/blob/main/CIE_4.ipynb\" target=\"_parent\"><img src=\"https://colab.research.google.com/assets/colab-badge.svg\" alt=\"Open In Colab\"/></a>"
      ]
    },
    {
      "cell_type": "code",
      "execution_count": 13,
      "metadata": {
        "colab": {
          "base_uri": "https://localhost:8080/"
        },
        "id": "tAZc-ahfTK20",
        "outputId": "20cb7949-c9f6-4d43-d38a-d61e8f329951"
      },
      "outputs": [
        {
          "output_type": "stream",
          "name": "stdout",
          "text": [
            "Mean Squared Error: 0.03121873021347409\n"
          ]
        }
      ],
      "source": [
        "import pandas as pd\n",
        "from sklearn.model_selection import train_test_split\n",
        "from sklearn.metrics import mean_squared_error\n",
        "from sklearn.ensemble import RandomForestRegressor\n",
        "import xgboost as xgb\n",
        "from sklearn.linear_model import LinearRegression\n",
        "from vecstack import stacking\n",
        "from sklearn.datasets import load_breast_cancer\n",
        "data = load_breast_cancer()\n",
        "df = pd.DataFrame(data=data.data, columns=data.feature_names)\n",
        "df['target'] = data.target\n",
        "target = df[\"target\"]\n",
        "train = df.drop(\"target\", axis=1)\n",
        "X_train, X_test, y_train, y_test = train_test_split(\n",
        "    train, target, test_size=0.20, random_state=42)\n",
        "model_1 = LinearRegression()\n",
        "model_2 = xgb.XGBRegressor()\n",
        "model_3 = RandomForestRegressor()\n",
        "all_models = [model_1, model_2, model_3]\n",
        "s_train, s_test = stacking(all_models, X_train, y_train.values.ravel(), X_test, regression=True, n_folds=4, shuffle=True)\n",
        "final_model = LinearRegression()\n",
        "final_model = final_model.fit(s_train, y_train)\n",
        "pred_final = final_model.predict(s_test)\n",
        "print(\"Mean Squared Error:\", mean_squared_error(y_test, pred_final))\n"
      ]
    }
  ]
}