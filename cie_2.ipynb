{
  "nbformat": 4,
  "nbformat_minor": 0,
  "metadata": {
    "colab": {
      "provenance": [],
      "authorship_tag": "ABX9TyPu5d4yCU3sN2OlArKbNG0l",
      "include_colab_link": true
    },
    "kernelspec": {
      "name": "python3",
      "display_name": "Python 3"
    },
    "language_info": {
      "name": "python"
    }
  },
  "cells": [
    {
      "cell_type": "markdown",
      "metadata": {
        "id": "view-in-github",
        "colab_type": "text"
      },
      "source": [
        "<a href=\"https://colab.research.google.com/github/Pavan748393/CIE-/blob/main/cie_2.ipynb\" target=\"_parent\"><img src=\"https://colab.research.google.com/assets/colab-badge.svg\" alt=\"Open In Colab\"/></a>"
      ]
    },
    {
      "cell_type": "code",
      "execution_count": 1,
      "metadata": {
        "colab": {
          "base_uri": "https://localhost:8080/"
        },
        "id": "XTztrakl3sIv",
        "outputId": "99b0282e-51b8-402c-ed7a-100676d3216b"
      },
      "outputs": [
        {
          "output_type": "stream",
          "name": "stdout",
          "text": [
            "central tendency for age:\n",
            "mean:29.69911764705882\n",
            "median:28.0\n",
            "mode:24.0\n",
            "mean:32.204207968574636\n",
            "madian:14.4542\n",
            "mode:8.05\n"
          ]
        }
      ],
      "source": [
        "import seaborn as sns\n",
        "titanic = sns.load_dataset('titanic')\n",
        "age_mean = titanic['age'].mean()\n",
        "age_median = titanic['age'].median()\n",
        "age_mode = titanic['age'].mode()[0]\n",
        "fare_mean = titanic['fare'].mean()\n",
        "fare_median = titanic['fare'].median()\n",
        "fare_mode = titanic['fare'].mode()[0]\n",
        "\n",
        "print(\"central tendency for age:\")\n",
        "print(f\"mean:{age_mean:}\")\n",
        "print(f\"median:{age_median:}\")\n",
        "print(f\"mode:{age_mode:}\")\n",
        "\n",
        "print(f\"mean:{fare_mean:}\")\n",
        "print(f\"madian:{fare_median:}\")\n",
        "print(f\"mode:{fare_mode:}\")"
      ]
    },
    {
      "cell_type": "code",
      "source": [
        "import seaborn as sns\n",
        "import matplotlib.pyplot as plt\n",
        "import pandas as pd\n",
        "import numpy as np\n",
        "titanic = sns.load_dataset('titanic')\n",
        "titanic['survived']=titanic['survived'].replace({1:'survived', 0:'not survived'})\n",
        "plt.figure(figsize=(14, 6))\n",
        "plt.subplot(1,2,1)\n",
        "sns.countplot(x='survived',hue='pclass',data=titanic,palette='viridis')\n",
        "plt.title('count of survival and pclass')\n",
        "plt.xlabel('survived')\n",
        "plt.ylabel('count')\n",
        "plt.show()"
      ],
      "metadata": {
        "colab": {
          "base_uri": "https://localhost:8080/",
          "height": 564
        },
        "id": "FOZzo5zQ3369",
        "outputId": "f50831d2-1ee3-4df1-d862-ad2e2d1e2982"
      },
      "execution_count": 2,
      "outputs": [
        {
          "output_type": "display_data",
          "data": {
            "text/plain": [
              "<Figure size 1400x600 with 1 Axes>"
            ],
            "image/png": "[encoded data removed]"
          },
          "metadata": {}
        }
      ]
    },
    {
      "cell_type": "code",
      "source": [
        "import pandas as pd\n",
        "import seaborn as sns\n",
        "titanic = sns.load_dataset('titanic')\n",
        "null_values = titanic.isnull().sum()\n",
        "print(\"Null values in each column before filling:\")\n",
        "print(null_values)\n",
        "titanic['age'].fillna(titanic['age'].mean(), inplace=True)\n",
        "titanic['fare'].fillna(titanic['fare'].mean(), inplace=True)\n",
        "null_values_after = titanic.isnull().sum()\n",
        "print(\"\\nNull values in each column after filling:\")\n",
        "print(null_values_after)"
      ],
      "metadata": {
        "colab": {
          "base_uri": "https://localhost:8080/"
        },
        "id": "eTUluA8J369c",
        "outputId": "53ebc117-9ec6-4932-d576-fbaed8cb75fa"
      },
      "execution_count": 3,
      "outputs": [
        {
          "output_type": "stream",
          "name": "stdout",
          "text": [
            "Null values in each column before filling:\n",
            "survived         0\n",
            "pclass           0\n",
            "sex              0\n",
            "age            177\n",
            "sibsp            0\n",
            "parch            0\n",
            "fare             0\n",
            "embarked         2\n",
            "class            0\n",
            "who              0\n",
            "adult_male       0\n",
            "deck           688\n",
            "embark_town      2\n",
            "alive            0\n",
            "alone            0\n",
            "dtype: int64\n",
            "\n",
            "Null values in each column after filling:\n",
            "survived         0\n",
            "pclass           0\n",
            "sex              0\n",
            "age              0\n",
            "sibsp            0\n",
            "parch            0\n",
            "fare             0\n",
            "embarked         2\n",
            "class            0\n",
            "who              0\n",
            "adult_male       0\n",
            "deck           688\n",
            "embark_town      2\n",
            "alive            0\n",
            "alone            0\n",
            "dtype: int64\n"
          ]
        }
      ]
    }
  ]
}